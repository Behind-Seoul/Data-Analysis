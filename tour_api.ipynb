{
 "cells": [
  {
   "cell_type": "code",
   "execution_count": 1,
   "metadata": {},
   "outputs": [],
   "source": [
    "import requests\n",
    "import json\n",
    "import xmltodict\n",
    "\n",
    "from pandas import json_normalize"
   ]
  },
  {
   "cell_type": "code",
   "execution_count": 2,
   "metadata": {},
   "outputs": [],
   "source": [
    "# request 파라미터 설정 ( 중구 기준 반경 20KM )\n",
    "key = 'Y68UAzINQavkx3XwJ7HWDZ12CzHa4aWf4RM+/rYFbRYkXAyVtFfrH8fJpnPHI8fTe/+UAvIgMJpqRkv+9+dhAg=='\n",
    "url = 'http://api.visitkorea.or.kr/openapi/service/rest/Odii/themeLocationBasedList'\n",
    "params ={'serviceKey' : f'{key}', 'pageNo' : '1', 'numOfRows' : '1000', 'MobileOS' : 'ETC', 'MobileApp' : 'AppTest', 'mapX' : '126.998249', 'mapY' : '37.564405', 'radius' : '20000', 'langCode' : 'ko' }"
   ]
  },
  {
   "cell_type": "code",
   "execution_count": 3,
   "metadata": {},
   "outputs": [],
   "source": [
    "# 주어진 좌표를 기반으로 주변에 있는 관광지 정보를 반환\n",
    "response = requests.get(url, params=params)\n",
    "val = response.text"
   ]
  },
  {
   "cell_type": "code",
   "execution_count": 4,
   "metadata": {},
   "outputs": [
    {
     "name": "stdout",
     "output_type": "stream",
     "text": [
      "    addr1 addr2     createdtime langCheck langCode        mapX       mapY  \\\n",
      "0      서울   동작구  20190923194619      1111       ko  126.955862  37.512863   \n",
      "1      서울   마포구  20190923194620      1111       ko  126.904523  37.549758   \n",
      "2      서울   종로구  20190923194620      1111       ko  126.986818  37.575704   \n",
      "3      서울   NaN  20190923194620      1111       ko  126.976485  37.564977   \n",
      "4     경기도   고양시  20190923194620      1000       ko  126.824668  37.600195   \n",
      "..    ...   ...             ...       ...      ...         ...        ...   \n",
      "128    서울  동대문구  20190923194626      1111       ko  127.030296  37.569785   \n",
      "129    서울  동대문구  20190923194626      1111       ko  127.033456  37.570793   \n",
      "130    서울  동대문구  20190923194626      1111       ko  127.037942  37.572301   \n",
      "131    서울   종로구  20190923194619      1111       ko   126.99517  37.581322   \n",
      "132   경기도   부천시  20190923194630      1000       ko  126.816811  37.523964   \n",
      "\n",
      "       modifiedtime themeCategory  tid        title  tlid imageUrl  \n",
      "0    20211213165807           오쾌남  632        용양봉저정  1525      NaN  \n",
      "1    20211213165845           오쾌남  638         망원정터  1526      NaN  \n",
      "2    20211213165946           오쾌남  639          운현궁  1527      NaN  \n",
      "3    20211213170059           오쾌남  640          덕수궁  1528      NaN  \n",
      "4    20191025223307           오쾌남  641         행주산성  1529      NaN  \n",
      "..              ...           ...  ...          ...   ...      ...  \n",
      "128  20191026113739        청계천 다리  700          무학교  1636      NaN  \n",
      "129  20191026113832        청계천 다리  701         두물다리  1640      NaN  \n",
      "130  20191026113910        청계천 다리  702         고산자교  1644      NaN  \n",
      "131  20211213165707           오쾌남  631          창경궁  1524      NaN  \n",
      "132  20191026121941           NaN  771  고강 선사 유적 공원  1715      NaN  \n",
      "\n",
      "[133 rows x 13 columns]\n"
     ]
    }
   ],
   "source": [
    "tour_list = xmltodict.parse(val)['response']['body']['items']['item']\n",
    "tour_list = json_normalize(tour_list)\n",
    "print(tour_list)"
   ]
  },
  {
   "cell_type": "code",
   "execution_count": 48,
   "metadata": {},
   "outputs": [],
   "source": [
    "tour_list.to_csv('./data/tour_list.csv', index=False, encoding='cp949')"
   ]
  }
 ],
 "metadata": {
  "kernelspec": {
   "display_name": "Python 3.8.13 ('behindseoul')",
   "language": "python",
   "name": "python3"
  },
  "language_info": {
   "codemirror_mode": {
    "name": "ipython",
    "version": 3
   },
   "file_extension": ".py",
   "mimetype": "text/x-python",
   "name": "python",
   "nbconvert_exporter": "python",
   "pygments_lexer": "ipython3",
   "version": "3.8.13"
  },
  "orig_nbformat": 4,
  "vscode": {
   "interpreter": {
    "hash": "f5c7d1b6f8983d90480b01ded27b5acd3c9a41374c9872b7234d1218e9093037"
   }
  }
 },
 "nbformat": 4,
 "nbformat_minor": 2
}
