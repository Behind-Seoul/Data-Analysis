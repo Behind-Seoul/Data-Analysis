{
 "cells": [
  {
   "cell_type": "code",
   "execution_count": 1,
   "metadata": {},
   "outputs": [],
   "source": [
    "import requests\n",
    "import json\n",
    "import xmltodict\n",
    "\n",
    "from pandas import json_normalize"
   ]
  },
  {
   "cell_type": "code",
   "execution_count": 2,
   "metadata": {},
   "outputs": [],
   "source": [
    "# request 파라미터 설정 ( 중구 기준 반경 20KM )\n",
    "key = 'Y68UAzINQavkx3XwJ7HWDZ12CzHa4aWf4RM+/rYFbRYkXAyVtFfrH8fJpnPHI8fTe/+UAvIgMJpqRkv+9+dhAg=='\n",
    "url = 'http://api.visitkorea.or.kr/openapi/service/rest/Odii/themeLocationBasedList'\n",
    "params ={'serviceKey' : f'{key}', 'pageNo' : '1', 'numOfRows' : '1000', 'MobileOS' : 'ETC', 'MobileApp' : 'AppTest', 'mapX' : '126.998249', 'mapY' : '37.564405', 'radius' : '20000', 'langCode' : 'ko' }"
   ]
  },
  {
   "cell_type": "code",
   "execution_count": 3,
   "metadata": {},
   "outputs": [],
   "source": [
    "# 주어진 좌표를 기반으로 주변에 있는 관광지 정보를 반환\n",
    "response = requests.get(url, params=params)\n",
    "val = response.text"
   ]
  },
  {
   "cell_type": "code",
   "execution_count": 4,
   "metadata": {},
   "outputs": [
    {
     "data": {
      "text/html": [
       "<div>\n",
       "<style scoped>\n",
       "    .dataframe tbody tr th:only-of-type {\n",
       "        vertical-align: middle;\n",
       "    }\n",
       "\n",
       "    .dataframe tbody tr th {\n",
       "        vertical-align: top;\n",
       "    }\n",
       "\n",
       "    .dataframe thead th {\n",
       "        text-align: right;\n",
       "    }\n",
       "</style>\n",
       "<table border=\"1\" class=\"dataframe\">\n",
       "  <thead>\n",
       "    <tr style=\"text-align: right;\">\n",
       "      <th></th>\n",
       "      <th>addr1</th>\n",
       "      <th>addr2</th>\n",
       "      <th>createdtime</th>\n",
       "      <th>langCheck</th>\n",
       "      <th>langCode</th>\n",
       "      <th>mapX</th>\n",
       "      <th>mapY</th>\n",
       "      <th>modifiedtime</th>\n",
       "      <th>themeCategory</th>\n",
       "      <th>tid</th>\n",
       "      <th>title</th>\n",
       "      <th>tlid</th>\n",
       "      <th>imageUrl</th>\n",
       "    </tr>\n",
       "  </thead>\n",
       "  <tbody>\n",
       "    <tr>\n",
       "      <th>0</th>\n",
       "      <td>서울</td>\n",
       "      <td>동작구</td>\n",
       "      <td>20190923194619</td>\n",
       "      <td>1111</td>\n",
       "      <td>ko</td>\n",
       "      <td>126.955862</td>\n",
       "      <td>37.512863</td>\n",
       "      <td>20211213165807</td>\n",
       "      <td>오쾌남</td>\n",
       "      <td>632</td>\n",
       "      <td>용양봉저정</td>\n",
       "      <td>1525</td>\n",
       "      <td>NaN</td>\n",
       "    </tr>\n",
       "    <tr>\n",
       "      <th>1</th>\n",
       "      <td>서울</td>\n",
       "      <td>마포구</td>\n",
       "      <td>20190923194620</td>\n",
       "      <td>1111</td>\n",
       "      <td>ko</td>\n",
       "      <td>126.904523</td>\n",
       "      <td>37.549758</td>\n",
       "      <td>20211213165845</td>\n",
       "      <td>오쾌남</td>\n",
       "      <td>638</td>\n",
       "      <td>망원정터</td>\n",
       "      <td>1526</td>\n",
       "      <td>NaN</td>\n",
       "    </tr>\n",
       "    <tr>\n",
       "      <th>2</th>\n",
       "      <td>서울</td>\n",
       "      <td>종로구</td>\n",
       "      <td>20190923194620</td>\n",
       "      <td>1111</td>\n",
       "      <td>ko</td>\n",
       "      <td>126.986818</td>\n",
       "      <td>37.575704</td>\n",
       "      <td>20211213165946</td>\n",
       "      <td>오쾌남</td>\n",
       "      <td>639</td>\n",
       "      <td>운현궁</td>\n",
       "      <td>1527</td>\n",
       "      <td>NaN</td>\n",
       "    </tr>\n",
       "    <tr>\n",
       "      <th>3</th>\n",
       "      <td>서울</td>\n",
       "      <td>NaN</td>\n",
       "      <td>20190923194620</td>\n",
       "      <td>1111</td>\n",
       "      <td>ko</td>\n",
       "      <td>126.976485</td>\n",
       "      <td>37.564977</td>\n",
       "      <td>20211213170059</td>\n",
       "      <td>오쾌남</td>\n",
       "      <td>640</td>\n",
       "      <td>덕수궁</td>\n",
       "      <td>1528</td>\n",
       "      <td>NaN</td>\n",
       "    </tr>\n",
       "    <tr>\n",
       "      <th>4</th>\n",
       "      <td>경기도</td>\n",
       "      <td>고양시</td>\n",
       "      <td>20190923194620</td>\n",
       "      <td>1000</td>\n",
       "      <td>ko</td>\n",
       "      <td>126.824668</td>\n",
       "      <td>37.600195</td>\n",
       "      <td>20191025223307</td>\n",
       "      <td>오쾌남</td>\n",
       "      <td>641</td>\n",
       "      <td>행주산성</td>\n",
       "      <td>1529</td>\n",
       "      <td>NaN</td>\n",
       "    </tr>\n",
       "  </tbody>\n",
       "</table>\n",
       "</div>"
      ],
      "text/plain": [
       "  addr1 addr2     createdtime langCheck langCode        mapX       mapY  \\\n",
       "0    서울   동작구  20190923194619      1111       ko  126.955862  37.512863   \n",
       "1    서울   마포구  20190923194620      1111       ko  126.904523  37.549758   \n",
       "2    서울   종로구  20190923194620      1111       ko  126.986818  37.575704   \n",
       "3    서울   NaN  20190923194620      1111       ko  126.976485  37.564977   \n",
       "4   경기도   고양시  20190923194620      1000       ko  126.824668  37.600195   \n",
       "\n",
       "     modifiedtime themeCategory  tid  title  tlid imageUrl  \n",
       "0  20211213165807           오쾌남  632  용양봉저정  1525      NaN  \n",
       "1  20211213165845           오쾌남  638   망원정터  1526      NaN  \n",
       "2  20211213165946           오쾌남  639    운현궁  1527      NaN  \n",
       "3  20211213170059           오쾌남  640    덕수궁  1528      NaN  \n",
       "4  20191025223307           오쾌남  641   행주산성  1529      NaN  "
      ]
     },
     "execution_count": 4,
     "metadata": {},
     "output_type": "execute_result"
    }
   ],
   "source": [
    "tour_list = xmltodict.parse(val)['response']['body']['items']['item']\n",
    "tour_list = json_normalize(tour_list)\n",
    "tour_list.head()"
   ]
  },
  {
   "cell_type": "code",
   "execution_count": 48,
   "metadata": {},
   "outputs": [],
   "source": [
    "tour_list.to_csv('./data/tour_list.csv', index=False, encoding='cp949')"
   ]
  }
 ],
 "metadata": {
  "kernelspec": {
   "display_name": "Python 3.8.13 ('behindseoul')",
   "language": "python",
   "name": "python3"
  },
  "language_info": {
   "codemirror_mode": {
    "name": "ipython",
    "version": 3
   },
   "file_extension": ".py",
   "mimetype": "text/x-python",
   "name": "python",
   "nbconvert_exporter": "python",
   "pygments_lexer": "ipython3",
   "version": "3.8.13"
  },
  "orig_nbformat": 4,
  "vscode": {
   "interpreter": {
    "hash": "f5c7d1b6f8983d90480b01ded27b5acd3c9a41374c9872b7234d1218e9093037"
   }
  }
 },
 "nbformat": 4,
 "nbformat_minor": 2
}
